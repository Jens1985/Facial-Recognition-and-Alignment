{
 "cells": [
  {
   "cell_type": "code",
   "execution_count": null,
   "metadata": {},
   "outputs": [],
   "source": [
    "from facenet_sandberg import Identifier, get_image_from_path_rgb, get_image_from_path_bgr, \\\n",
    "                            Detector, embedding_distance, DistanceMetric, get_images_from_dir\n",
    "import matplotlib.pyplot as plt\n",
    "import numpy as np\n",
    "import os\n",
    "from sklearn.manifold import TSNE\n",
    "import glob\n",
    "import cv2\n",
    "\n",
    "%matplotlib inline"
   ]
  },
  {
   "cell_type": "markdown",
   "metadata": {},
   "source": [
    "### Get images"
   ]
  },
  {
   "cell_type": "code",
   "execution_count": null,
   "metadata": {},
   "outputs": [],
   "source": [
    "noam_chomsky_1 = get_image_from_path_rgb(\"noam-chomsky-1.jpg\")\n",
    "noam_chomsky_2 = get_image_from_path_rgb(\"noam-chomsky-2.jpg\")\n",
    "not_noam_chomsky = get_image_from_path_rgb(\"not-noam-chomsky.jpg\")"
   ]
  },
  {
   "cell_type": "code",
   "execution_count": null,
   "metadata": {},
   "outputs": [],
   "source": [
    "def plot_images(image_1, image_2):\n",
    "    f = plt.figure()\n",
    "    f.add_subplot(1,2, 1)\n",
    "    plt.imshow(image_1)\n",
    "    f.add_subplot(1,2, 2)\n",
    "    plt.imshow(image_2)"
   ]
  },
  {
   "cell_type": "code",
   "execution_count": null,
   "metadata": {},
   "outputs": [],
   "source": [
    "images = list(get_images_from_dir('people/noam_chomsky', recursive=False))\n",
    "plt.imshow(images[3])"
   ]
  },
  {
   "cell_type": "markdown",
   "metadata": {},
   "source": [
    "# Align"
   ]
  },
  {
   "cell_type": "code",
   "execution_count": null,
   "metadata": {},
   "outputs": [],
   "source": [
    "detector = Detector()"
   ]
  },
  {
   "cell_type": "code",
   "execution_count": null,
   "metadata": {},
   "outputs": [],
   "source": [
    "faces = detector.find_faces(noam_chomsky_1)"
   ]
  },
  {
   "cell_type": "code",
   "execution_count": null,
   "metadata": {},
   "outputs": [],
   "source": [
    "plot_images(noam_chomsky_1, faces[0].image)"
   ]
  },
  {
   "cell_type": "markdown",
   "metadata": {},
   "source": [
    "### Bulk align"
   ]
  },
  {
   "cell_type": "code",
   "execution_count": null,
   "metadata": {},
   "outputs": [],
   "source": [
    "aligned_images = list(detector.bulk_find_face(images))"
   ]
  },
  {
   "cell_type": "code",
   "execution_count": null,
   "metadata": {},
   "outputs": [],
   "source": [
    "plt.imshow(aligned_images[3][0].image)"
   ]
  },
  {
   "cell_type": "markdown",
   "metadata": {},
   "source": [
    "# Vectorize"
   ]
  },
  {
   "cell_type": "code",
   "execution_count": null,
   "metadata": {},
   "outputs": [],
   "source": [
    "identifier = Identifier(model_path=os.path.join('models','facenet_model.pb'))"
   ]
  },
  {
   "cell_type": "markdown",
   "metadata": {},
   "source": [
    "### Get single face vectors"
   ]
  },
  {
   "cell_type": "code",
   "execution_count": null,
   "metadata": {},
   "outputs": [],
   "source": [
    "# vectorize() returns an array of vectors, one for each face in a single image (we grab the first because there is only one\n",
    "# face in these images)\n",
    "vector_1 = identifier.vectorize(noam_chomsky_1)[0]\n",
    "vector_2 = identifier.vectorize(noam_chomsky_2)[0]\n",
    "vector_3 = identifier.vectorize(not_noam_chomsky)[0]"
   ]
  },
  {
   "cell_type": "markdown",
   "metadata": {},
   "source": [
    "### Visualize face encodings"
   ]
  },
  {
   "cell_type": "code",
   "execution_count": null,
   "metadata": {},
   "outputs": [],
   "source": [
    "noam_images = list(map(get_image_from_path_rgb, glob.glob(\"people/noam_chomsky/*.*\")))\n",
    "other_people = list(map(get_image_from_path_rgb, glob.glob(\"people/bernie/*.*\")))"
   ]
  },
  {
   "cell_type": "code",
   "execution_count": null,
   "metadata": {},
   "outputs": [],
   "source": [
    "# We use the bulk encoding method vectorize_all() because it's much faster \n",
    "# Filter out empty arrays and grab the first item from each array of vectors per image \n",
    "noam_vectors = list(map(lambda x : x[0], filter(None, identifier.vectorize_all(noam_images, prealigned=False))))\n",
    "other_vectors = list(map(lambda x : x[0], filter(None, identifier.vectorize_all(other_people, prealigned=False))))"
   ]
  },
  {
   "cell_type": "code",
   "execution_count": null,
   "metadata": {},
   "outputs": [],
   "source": [
    "# combine into one features array\n",
    "features = np.array(noam_vectors + other_vectors)\n",
    "# label each feature (0 is noam and 1 is not noam)\n",
    "labels = np.array(([0] * len(noam_vectors)) + ([1] * len(other_vectors)) )"
   ]
  },
  {
   "cell_type": "code",
   "execution_count": null,
   "metadata": {},
   "outputs": [],
   "source": [
    "# use tsne to reduce dimensionality for visualization\n",
    "tsne = TSNE(n_components=2, random_state=0)\n",
    "reduced = tsne.fit_transform(features)"
   ]
  },
  {
   "cell_type": "code",
   "execution_count": null,
   "metadata": {},
   "outputs": [],
   "source": [
    "plt.figure(figsize=(20, 20))\n",
    "colors = 'r', 'g',\n",
    "for i, c, label in zip([0, 1], colors, ['noam_chomsky', 'bernie']):\n",
    "    plt.scatter(reduced[labels == i, 0], reduced[labels == i, 1], c=c, label=label)\n",
    "plt.legend()\n",
    "plt.show()"
   ]
  },
  {
   "cell_type": "markdown",
   "metadata": {},
   "source": [
    "# Compare two faces"
   ]
  },
  {
   "cell_type": "code",
   "execution_count": null,
   "metadata": {},
   "outputs": [],
   "source": [
    "plot_images(noam_chomsky_1, noam_chomsky_2)"
   ]
  },
  {
   "cell_type": "code",
   "execution_count": null,
   "metadata": {},
   "outputs": [],
   "source": [
    "identifier.compare_images(noam_chomsky_1, noam_chomsky_2).is_match"
   ]
  },
  {
   "cell_type": "code",
   "execution_count": null,
   "metadata": {},
   "outputs": [],
   "source": [
    "plot_images(noam_chomsky_2, not_noam_chomsky)"
   ]
  },
  {
   "cell_type": "code",
   "execution_count": null,
   "metadata": {},
   "outputs": [],
   "source": [
    "identifier.compare_images(noam_chomsky_2, not_noam_chomsky).is_match"
   ]
  },
  {
   "cell_type": "code",
   "execution_count": null,
   "metadata": {},
   "outputs": [],
   "source": []
  }
 ],
 "metadata": {
  "kernelspec": {
   "display_name": "Python 3",
   "language": "python",
   "name": "python3"
  },
  "language_info": {
   "codemirror_mode": {
    "name": "ipython",
    "version": 3
   },
   "file_extension": ".py",
   "mimetype": "text/x-python",
   "name": "python",
   "nbconvert_exporter": "python",
   "pygments_lexer": "ipython3",
   "version": "3.6.6"
  }
 },
 "nbformat": 4,
 "nbformat_minor": 2
}
